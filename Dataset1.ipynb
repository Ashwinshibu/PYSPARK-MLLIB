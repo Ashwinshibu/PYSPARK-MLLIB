{
 "cells": [
  {
   "cell_type": "code",
   "execution_count": 1,
   "id": "ecd5456f",
   "metadata": {},
   "outputs": [],
   "source": [
    "import findspark\n",
    "findspark.init()"
   ]
  },
  {
   "cell_type": "code",
   "execution_count": 2,
   "id": "9113eb0e",
   "metadata": {},
   "outputs": [],
   "source": [
    "import pyspark\n",
    "from pyspark.sql import SparkSession,types\n",
    "spark=SparkSession.builder.master(\"local\").appName(\"new\").getOrCreate()\n",
    "sc=spark.sparkContext\n"
   ]
  },
  {
   "cell_type": "code",
   "execution_count": 6,
   "id": "65c62a20",
   "metadata": {},
   "outputs": [],
   "source": [
    "data=spark.read.text(\"input.txt\")"
   ]
  },
  {
   "cell_type": "code",
   "execution_count": 7,
   "id": "2f556187",
   "metadata": {},
   "outputs": [
    {
     "name": "stdout",
     "output_type": "stream",
     "text": [
      "+---------------------+\n",
      "|value                |\n",
      "+---------------------+\n",
      "|Name~|Age            |\n",
      "|Azarudeen, Shahul~|25|\n",
      "|Michel, Clarke~|26   |\n",
      "|Virat, Kohli~|28     |\n",
      "|Andrew, Simond~|28   |\n",
      "|George, Bush~|37     |\n",
      "|Flintoff, David~|12  |\n",
      "|Adam, James~|20      |\n",
      "+---------------------+\n",
      "\n"
     ]
    }
   ],
   "source": [
    "data.show(truncate=0)"
   ]
  },
  {
   "cell_type": "code",
   "execution_count": 10,
   "id": "4c88335e",
   "metadata": {},
   "outputs": [],
   "source": [
    "header=data.first()[0]"
   ]
  },
  {
   "cell_type": "code",
   "execution_count": 12,
   "id": "17f34915",
   "metadata": {},
   "outputs": [],
   "source": [
    "schema=header.split(\"~|\")"
   ]
  },
  {
   "cell_type": "code",
   "execution_count": 14,
   "id": "80494052",
   "metadata": {},
   "outputs": [
    {
     "name": "stdout",
     "output_type": "stream",
     "text": [
      "+--------------------+\n",
      "|               value|\n",
      "+--------------------+\n",
      "|Azarudeen, Shahul...|\n",
      "|  Michel, Clarke~|26|\n",
      "|    Virat, Kohli~|28|\n",
      "|  Andrew, Simond~|28|\n",
      "|    George, Bush~|37|\n",
      "| Flintoff, David~|12|\n",
      "|     Adam, James~|20|\n",
      "+--------------------+\n",
      "\n"
     ]
    }
   ],
   "source": [
    "data.filter(data[\"value\"]!=header).show()"
   ]
  },
  {
   "cell_type": "code",
   "execution_count": 15,
   "id": "13f0a3b9",
   "metadata": {},
   "outputs": [
    {
     "data": {
      "text/plain": [
       "[['Azarudeen, Shahul', '25'],\n",
       " ['Michel, Clarke', '26'],\n",
       " ['Virat, Kohli', '28'],\n",
       " ['Andrew, Simond', '28'],\n",
       " ['George, Bush', '37'],\n",
       " ['Flintoff, David', '12'],\n",
       " ['Adam, James', '20']]"
      ]
     },
     "execution_count": 15,
     "metadata": {},
     "output_type": "execute_result"
    }
   ],
   "source": [
    "data.filter(data[\"value\"]!=header).rdd.map(lambda x:x[0].split(\"~|\")).collect()"
   ]
  },
  {
   "cell_type": "code",
   "execution_count": 22,
   "id": "13de3d52",
   "metadata": {},
   "outputs": [],
   "source": [
    "dataN=data.filter(data[\"value\"]!=header).rdd.map(lambda x:x[0].split(\"~|\")).toDF(schema)"
   ]
  },
  {
   "cell_type": "code",
   "execution_count": 23,
   "id": "b2879687",
   "metadata": {},
   "outputs": [
    {
     "name": "stdout",
     "output_type": "stream",
     "text": [
      "+-----------------+---+\n",
      "|             Name|Age|\n",
      "+-----------------+---+\n",
      "|Azarudeen, Shahul| 25|\n",
      "|   Michel, Clarke| 26|\n",
      "|     Virat, Kohli| 28|\n",
      "|   Andrew, Simond| 28|\n",
      "|     George, Bush| 37|\n",
      "|  Flintoff, David| 12|\n",
      "|      Adam, James| 20|\n",
      "+-----------------+---+\n",
      "\n"
     ]
    }
   ],
   "source": [
    "dataN.show()"
   ]
  },
  {
   "cell_type": "code",
   "execution_count": 24,
   "id": "190b6d0f",
   "metadata": {},
   "outputs": [],
   "source": [
    "rdd1=dataN.rdd"
   ]
  },
  {
   "cell_type": "code",
   "execution_count": 29,
   "id": "c2b7f69f",
   "metadata": {},
   "outputs": [
    {
     "data": {
      "text/plain": [
       "[Row(Name='Azarudeen, Shahul', Age='25'),\n",
       " Row(Name='Michel, Clarke', Age='26'),\n",
       " Row(Name='Virat, Kohli', Age='28'),\n",
       " Row(Name='Andrew, Simond', Age='28'),\n",
       " Row(Name='George, Bush', Age='37'),\n",
       " Row(Name='Flintoff, David', Age='12'),\n",
       " Row(Name='Adam, James', Age='20')]"
      ]
     },
     "execution_count": 29,
     "metadata": {},
     "output_type": "execute_result"
    }
   ],
   "source": [
    "rdd1.collect()"
   ]
  },
  {
   "cell_type": "code",
   "execution_count": 47,
   "id": "779db161",
   "metadata": {},
   "outputs": [],
   "source": [
    "dataF=rdd1.map(lambda x:x[0].split(\",\")).map(lambda x:x[0]+\" \"+x[1]).map(lambda x:x.split(\",\")).toDF([\"Name\"])"
   ]
  },
  {
   "cell_type": "code",
   "execution_count": 49,
   "id": "ac875b09",
   "metadata": {},
   "outputs": [
    {
     "name": "stdout",
     "output_type": "stream",
     "text": [
      "+-----------------+---+\n",
      "|             Name|Age|\n",
      "+-----------------+---+\n",
      "|Azarudeen, Shahul| 25|\n",
      "|   Michel, Clarke| 26|\n",
      "|     Virat, Kohli| 28|\n",
      "|   Andrew, Simond| 28|\n",
      "|     George, Bush| 37|\n",
      "|  Flintoff, David| 12|\n",
      "|      Adam, James| 20|\n",
      "+-----------------+---+\n",
      "\n"
     ]
    }
   ],
   "source": [
    "dataN.show()"
   ]
  },
  {
   "cell_type": "code",
   "execution_count": 52,
   "id": "72c34f8f",
   "metadata": {},
   "outputs": [
    {
     "name": "stdout",
     "output_type": "stream",
     "text": [
      "+-----------------+\n",
      "|             Name|\n",
      "+-----------------+\n",
      "|Azarudeen  Shahul|\n",
      "|   Michel  Clarke|\n",
      "|     Virat  Kohli|\n",
      "|   Andrew  Simond|\n",
      "|     George  Bush|\n",
      "|  Flintoff  David|\n",
      "|      Adam  James|\n",
      "+-----------------+\n",
      "\n"
     ]
    }
   ],
   "source": [
    "dataF.show()"
   ]
  },
  {
   "cell_type": "code",
   "execution_count": 55,
   "id": "9d84d7d3",
   "metadata": {},
   "outputs": [],
   "source": [
    "dataN=dataN.drop(\"Name\")"
   ]
  },
  {
   "cell_type": "code",
   "execution_count": 56,
   "id": "1b583b69",
   "metadata": {},
   "outputs": [
    {
     "name": "stdout",
     "output_type": "stream",
     "text": [
      "+---+\n",
      "|Age|\n",
      "+---+\n",
      "| 25|\n",
      "| 26|\n",
      "| 28|\n",
      "| 28|\n",
      "| 37|\n",
      "| 12|\n",
      "| 20|\n",
      "+---+\n",
      "\n"
     ]
    }
   ],
   "source": [
    "dataN.show()"
   ]
  },
  {
   "cell_type": "code",
   "execution_count": 71,
   "id": "6351d2a8",
   "metadata": {},
   "outputs": [],
   "source": [
    "from pyspark.sql.functions import monotonically_increasing_id \n",
    "\n",
    "data_index = dataN.select(\"*\").withColumn(\"id\", monotonically_increasing_id())"
   ]
  },
  {
   "cell_type": "code",
   "execution_count": 72,
   "id": "96999708",
   "metadata": {},
   "outputs": [
    {
     "name": "stdout",
     "output_type": "stream",
     "text": [
      "+---+---+\n",
      "|Age| id|\n",
      "+---+---+\n",
      "| 25|  0|\n",
      "| 26|  1|\n",
      "| 28|  2|\n",
      "| 28|  3|\n",
      "| 37|  4|\n",
      "| 12|  5|\n",
      "| 20|  6|\n",
      "+---+---+\n",
      "\n"
     ]
    }
   ],
   "source": [
    "data_index.show()"
   ]
  },
  {
   "cell_type": "code",
   "execution_count": 73,
   "id": "c52121ff",
   "metadata": {},
   "outputs": [],
   "source": [
    "dataN=dataF.select(\"*\").withColumn(\"id\",monotonically_increasing_id())"
   ]
  },
  {
   "cell_type": "code",
   "execution_count": 74,
   "id": "eaf32eac",
   "metadata": {},
   "outputs": [
    {
     "name": "stdout",
     "output_type": "stream",
     "text": [
      "+-----------------+---+\n",
      "|             Name| id|\n",
      "+-----------------+---+\n",
      "|Azarudeen  Shahul|  0|\n",
      "|   Michel  Clarke|  1|\n",
      "|     Virat  Kohli|  2|\n",
      "|   Andrew  Simond|  3|\n",
      "|     George  Bush|  4|\n",
      "|  Flintoff  David|  5|\n",
      "|      Adam  James|  6|\n",
      "+-----------------+---+\n",
      "\n"
     ]
    }
   ],
   "source": [
    "dataN.show()"
   ]
  },
  {
   "cell_type": "code",
   "execution_count": 80,
   "id": "afd1755f",
   "metadata": {},
   "outputs": [],
   "source": [
    "final_data=dataN.join(data_index,on=\"id\").drop(\"id\").sort(\"Name\")"
   ]
  },
  {
   "cell_type": "code",
   "execution_count": 82,
   "id": "0d45242e",
   "metadata": {},
   "outputs": [
    {
     "name": "stdout",
     "output_type": "stream",
     "text": [
      "+-----------------+---+\n",
      "|             Name|Age|\n",
      "+-----------------+---+\n",
      "|      Adam  James| 20|\n",
      "|   Andrew  Simond| 28|\n",
      "|Azarudeen  Shahul| 25|\n",
      "|  Flintoff  David| 12|\n",
      "|     George  Bush| 37|\n",
      "|   Michel  Clarke| 26|\n",
      "|     Virat  Kohli| 28|\n",
      "+-----------------+---+\n",
      "\n"
     ]
    }
   ],
   "source": [
    "final_data.show()"
   ]
  },
  {
   "cell_type": "code",
   "execution_count": null,
   "id": "0da15324",
   "metadata": {},
   "outputs": [],
   "source": []
  }
 ],
 "metadata": {
  "kernelspec": {
   "display_name": "Python 3 (ipykernel)",
   "language": "python",
   "name": "python3"
  },
  "language_info": {
   "codemirror_mode": {
    "name": "ipython",
    "version": 3
   },
   "file_extension": ".py",
   "mimetype": "text/x-python",
   "name": "python",
   "nbconvert_exporter": "python",
   "pygments_lexer": "ipython3",
   "version": "3.9.12"
  }
 },
 "nbformat": 4,
 "nbformat_minor": 5
}
